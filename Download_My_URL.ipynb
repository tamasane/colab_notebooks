{
  "nbformat": 4,
  "nbformat_minor": 0,
  "metadata": {
    "colab": {
      "name": "Download My URL.ipynb",
      "provenance": [],
      "include_colab_link": true
    },
    "kernelspec": {
      "name": "python3",
      "display_name": "Python 3"
    }
  },
  "cells": [
    {
      "cell_type": "markdown",
      "metadata": {
        "id": "view-in-github",
        "colab_type": "text"
      },
      "source": [
        "<a href=\"https://colab.research.google.com/github/tamasane/colab_notebooks/blob/master/Download_My_URL.ipynb\" target=\"_parent\"><img src=\"https://colab.research.google.com/assets/colab-badge.svg\" alt=\"Open In Colab\"/></a>"
      ]
    },
    {
      "cell_type": "code",
      "metadata": {
        "id": "SfVYCRIT9uV-",
        "colab_type": "code",
        "colab": {
          "base_uri": "https://localhost:8080/",
          "height": 34
        },
        "outputId": "4596e627-bdec-48c6-cffc-eef82ec8659f"
      },
      "source": [
        "from google.colab import drive\n",
        "drive.mount('/content/drive')"
      ],
      "execution_count": null,
      "outputs": [
        {
          "output_type": "stream",
          "text": [
            "Drive already mounted at /content/drive; to attempt to forcibly remount, call drive.mount(\"/content/drive\", force_remount=True).\n"
          ],
          "name": "stdout"
        }
      ]
    },
    {
      "cell_type": "code",
      "metadata": {
        "id": "ge9rvSpyxxDf",
        "colab_type": "code",
        "colab": {}
      },
      "source": [
        "!cd /content/drive/My\\ Drive/"
      ],
      "execution_count": null,
      "outputs": []
    },
    {
      "cell_type": "code",
      "metadata": {
        "id": "KIOtXx2Sx7BR",
        "colab_type": "code",
        "colab": {}
      },
      "source": [
        "!touch /content/drive/My\\ Drive/Lubuntu32.iso"
      ],
      "execution_count": null,
      "outputs": []
    },
    {
      "cell_type": "code",
      "metadata": {
        "id": "X3xwsRZv_QWs",
        "colab_type": "code",
        "colab": {}
      },
      "source": [
        "import requests \n",
        "file_url = \"http://cdimage.ubuntu.com/lubuntu/releases/18.04/release/lubuntu-18.04-alternate-i386.iso\"\n",
        "\t\n",
        "r = requests.get(file_url, stream = True) \n",
        "\n",
        "with open(\"Lubuntu32.iso\", \"wb\") as file: \n",
        "\tfor block in r.iter_content(chunk_size = 1024): \n",
        "\t\tif block: \n",
        "\t\t\tfile.write(block) "
      ],
      "execution_count": null,
      "outputs": []
    },
    {
      "cell_type": "code",
      "metadata": {
        "id": "nI4NM3FDyWiV",
        "colab_type": "code",
        "colab": {}
      },
      "source": [
        "!mv Lubuntu32.iso drive/My\\ Drive/Lubuntu32.iso"
      ],
      "execution_count": null,
      "outputs": []
    }
  ]
}